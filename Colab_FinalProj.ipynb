{
  "nbformat": 4,
  "nbformat_minor": 0,
  "metadata": {
    "colab": {
      "provenance": [],
      "collapsed_sections": [
        "SHatHSDEdhZc"
      ],
      "authorship_tag": "ABX9TyMYC9H9HRVDN7ohOs/sP90I",
      "include_colab_link": true
    },
    "kernelspec": {
      "name": "python3",
      "display_name": "Python 3"
    },
    "language_info": {
      "name": "python"
    }
  },
  "cells": [
    {
      "cell_type": "markdown",
      "metadata": {
        "id": "view-in-github",
        "colab_type": "text"
      },
      "source": [
        "<a href=\"https://colab.research.google.com/github/luoshaoyang/cs224w_final_proj/blob/main/Colab_FinalProj.ipynb\" target=\"_parent\"><img src=\"https://colab.research.google.com/assets/colab-badge.svg\" alt=\"Open In Colab\"/></a>"
      ]
    },
    {
      "cell_type": "markdown",
      "source": [
        "# Image Visible Masking/Watermark Removal with Graph Neural Network"
      ],
      "metadata": {
        "id": "fPkn6dGvbTT-"
      }
    },
    {
      "cell_type": "code",
      "source": [
        "from google.colab import drive\n",
        "drive.mount('/content/drive')\n",
        "FOLDERNAME = 'CS224WFinalProj/'\n",
        "import sys\n",
        "sys.path.append('/content/drive/MyDrive/{}'.format(FOLDERNAME))\n",
        "%cd /content/drive/MyDrive/$FOLDERNAME"
      ],
      "metadata": {
        "colab": {
          "base_uri": "https://localhost:8080/"
        },
        "id": "jguCIZVQzYGd",
        "outputId": "07e0eea0-2e60-4e01-9a3d-a335d386dc55"
      },
      "execution_count": 3,
      "outputs": [
        {
          "output_type": "stream",
          "name": "stdout",
          "text": [
            "Mounted at /content/drive\n",
            "/content/drive/MyDrive/CS224WFinalProj\n"
          ]
        }
      ]
    },
    {
      "cell_type": "markdown",
      "source": [
        "# Setup\n",
        "* Import Libraries\n",
        "* Handy Functions<br>\n",
        " 1. loadImage\n",
        " 2. image2NN\n",
        " 3. NN2Image\n",
        " 4. plotImage\n",
        " 5. image2GrayScale\n",
        " 6. image2Binary\n",
        " 7. overlayerImg\n",
        " 8. overlayImg1OverImg2\n",
        " 9. addWatermark\n"
      ],
      "metadata": {
        "id": "ckOOSgd9bXP0"
      }
    },
    {
      "cell_type": "code",
      "execution_count": 1,
      "metadata": {
        "id": "o4FTTICIbQjI"
      },
      "outputs": [],
      "source": [
        "# Packages\n",
        "import numpy as np\n",
        "import pandas as pd\n",
        "import cv2\n",
        "import torchvision.transforms as transforms\n",
        "import os\n",
        "import matplotlib.pyplot as plt\n",
        "\n",
        "import torch\n",
        "#device = torch.device('cuda' if torch.cuda.is_available() else 'cpu')\n",
        "#device"
      ]
    },
    {
      "cell_type": "code",
      "source": [
        "# Functions\n",
        "def loadImage(path,plotImg=True,gray_scale=False):\n",
        "  #####################################################\n",
        "  #Read in image path and returns an image\n",
        "  #####################################################\n",
        "  image = cv2.imread(path)\n",
        "  image = cv2.cvtColor(image,cv2.COLOR_BGR2GRAY if gray_scale else cv2.COLOR_BGR2RGB)  \n",
        "  if plotImg:\n",
        "    plt.figure()\n",
        "    plt.imshow(image)\n",
        "    plt.show()\n",
        "  return image\n",
        "\n",
        "def image2Tensor(img,gray_scale=True):\n",
        "  #####################################################\n",
        "  #Read in image, and return tensor of the image\n",
        "  #  more interesting reading: https://towardsdatascience.com/image-read-and-resize-with-opencv-tensorflow-and-pil-3e0f29b992be\n",
        "  #####################################################\n",
        "  # convert BGR image to RGB image\n",
        "  img = cv2.cvtColor(image,cv2.COLOR_BGR2GRAY if gray_scale else cv2.COLOR_BGR2RGB)\n",
        "  transform = transforms.Compose([transforms.ToTensor()])\n",
        "  img_tensor = transform(img)\n",
        "  return img_tensor\n",
        "\n",
        "def Tensor2Image(img_tensor,dim_order=None,gray_scale=True,plotImg=True):\n",
        "  #####################################################\n",
        "  #Read in tensor, and return plotable image\n",
        "  #####################################################\n",
        "  img = img_tensor.numpy()\n",
        "  if dim_order:\n",
        "    img = np.transpose(img,order)\n",
        "  img = cvtColor(img,cv2.COLOR_BGR2GRAY if gray_scale else cv2.COLOR_BGR2RGB)\n",
        "  if plotImg:\n",
        "    plt.figure()\n",
        "    plt.imshow(image)\n",
        "    plt.show()\n",
        "  return img\n",
        "\n",
        "def plotImg(image):\n",
        "  plt.figure()\n",
        "  plt.imshow(image)\n",
        "  plt.show()\n",
        "\n",
        "def image2GrayScale(image):\n",
        "  img = cvtColor(img,cv2.COLOR_BGR2GRAY)\n",
        "  return img\n",
        "\n",
        "def image2Binary(image):\n",
        "  img = image2GrayScale(image)\n",
        "  img = np.round(img)\n",
        "  return img\n",
        "\n",
        "def overlayerImg(size,rgb):\n",
        "  #####################################################\n",
        "  #Create a box overlay image that could go above the license plate\n",
        "  #  rgb being a vector of shape (,3); size being a vector of shape (row,col,3)\n",
        "  #####################################################\n",
        "  img = np.ndarray([[[rgb[0]]*size.shape[0]]*size.shape[1],\n",
        "                    [[rgb[1]]*size.shape[0]]*size.shape[1],\n",
        "                    [[rgb[2]]*size.shape[0]]*size.shape[1]])\n",
        "  return img\n",
        "\n",
        "def overlayImg1OverImg2(img1,img2):\n",
        "  #####################################################\n",
        "  #Overlay the box image (img1) above the license plate(img2)\n",
        "  #  center the images at the same place\n",
        "  #####################################################\n",
        "  img = img2.copy()\n",
        "  y_lower = np.round(img.shape[0]/2)-np.round(img1.shape[0]/2)\n",
        "  y_upper = y_lower+img1.shape[0]# (y_lower,y_upper]\n",
        "  img[y_lower:y_upper,:,:] = img1\n",
        "  return img\n",
        "\n",
        "def addWatermark(img,watermark,wm_scale):\n",
        "  #####################################################\n",
        "  #Add watermark image on bottom right of the license plate(img)\n",
        "  #  center the images at the same place\n",
        "  #####################################################\n",
        "  img_wm = img.copy()\n",
        "  #prepare watermark image\n",
        "  wm_size = (int(watermark.shape[1]*wm_scale),int(watermark.shape[0]*wm_scale))\n",
        "  img_w = cv2.resize(watermark,wm_size,interpolation=cv2.INTER_AREA)\n",
        "  #prepare cordinates\n",
        "  h_img, w_img, _ = img.shape\n",
        "  h_wm, w_wm, _ = img_w.shape\n",
        "  bottom_y = h_img\n",
        "  right_x = w_img\n",
        "  top_y = bottom_y - int(h_wm)\n",
        "  left_x = right_x - int(w_wm)\n",
        "  #img[170:175, left_x:right_x]\n",
        "  roi = img[top_y:bottom_y, left_x:right_x]\n",
        "  result = cv2.addWeighted(roi, 1, img_w, 0.3, 0)\n",
        "  img_wm[top_y:bottom_y, left_x:right_x] = result\n",
        "  return img_wm"
      ],
      "metadata": {
        "id": "WiZWACyafvDN"
      },
      "execution_count": 93,
      "outputs": []
    },
    {
      "cell_type": "code",
      "source": [
        "wm = addWatermark(img,watermark,wm_scale=0.04)\n",
        "plt.imshow(wm)"
      ],
      "metadata": {
        "colab": {
          "base_uri": "https://localhost:8080/",
          "height": 237
        },
        "id": "-QypbcYUt_6w",
        "outputId": "6f2e46bf-f236-466a-a8f4-701e3e11cf66"
      },
      "execution_count": 94,
      "outputs": [
        {
          "output_type": "execute_result",
          "data": {
            "text/plain": [
              "<matplotlib.image.AxesImage at 0x7fa8b85c1130>"
            ]
          },
          "metadata": {},
          "execution_count": 94
        },
        {
          "output_type": "display_data",
          "data": {
            "text/plain": [
              "<Figure size 432x288 with 1 Axes>"
            ],
            "image/png": "[encoded data removed]"
          },
          "metadata": {
            "needs_background": "light"
          }
        }
      ]
    },
    {
      "cell_type": "markdown",
      "source": [
        "#Data Processing\n",
        "* Read in the datasets\n",
        "* Create masked/watermarked datasets\n",
        "* Split for training and testing"
      ],
      "metadata": {
        "id": "KSegHW9gbdFM"
      }
    },
    {
      "cell_type": "code",
      "source": [
        "# Load DataSet\n",
        "train = pd.read_csv('train.csv')\n",
        "test = pd.read_csv('test.csv')\n",
        "\n",
        "# idx=0#for image 0 in training\n",
        "# path = os.path.join('../data', train.loc[idx, 'Label'], train.loc[idx, 'Image'])\n",
        "# loadImage(path)"
      ],
      "metadata": {
        "id": "uGSgKkRgbhyI"
      },
      "execution_count": 95,
      "outputs": []
    },
    {
      "cell_type": "code",
      "source": [
        "# Create watermarked datasets: bottom right 100*100 pixels\n",
        "watermark = loadImage(\"watermark.png\")\n",
        "\n",
        "counter=0\n",
        "for img_file in train[\"Label\"]:\n",
        "  path = os.path.join('../data',img_file)\n",
        "  path_wm = os.path.join('../data/train/wm',img_file)\n",
        "  path_original = os.path.join('../data/train/original',img_file)\n",
        "  try:\n",
        "    img = loadImage(path,plotImg=False)\n",
        "    cv2.imwrite(path_original,img)\n",
        "    img_wm = addWatermark(img,watermark,wm_scale=0.04)\n",
        "    cv2.imwrite(path_wm,img_wm)\n",
        "  except:\n",
        "    print(f\"{img_file} not exist, skip.\")\n",
        "    continue\n",
        "  counter+=1\n",
        "  if (counter*100/len(train))%10!=0:\n",
        "    print(f\"{(counter*100/len(train))%10}% training data processed\")\n",
        "\n",
        "counter=0\n",
        "for img_file in test[\"Label\"]:\n",
        "  path = os.path.join('../data',img_file)\n",
        "  path_wm = os.path.join('../data/test/wm',img_file)\n",
        "  path_original = os.path.join('../data/test/original',img_file)\n",
        "  try:\n",
        "    img = loadImage(path,plotImg=False)\n",
        "    cv2.imwrite(path_original,img)\n",
        "    img_wm = addWatermark(img,watermark,wm_scale=0.04)\n",
        "    cv2.imwrite(path_wm,img_wm)\n",
        "  except:\n",
        "    print(f\"{img_file} not exist, skip.\")\n",
        "    continue\n",
        "  if (counter*100/len(test))%10!=0:\n",
        "    print(f\"{(counter*100/len(test))%10}% training data processed\")"
      ],
      "metadata": {
        "id": "OJEeODGKf3Rz",
        "colab": {
          "base_uri": "https://localhost:8080/"
        },
        "outputId": "8b9f4688-fe0b-40d6-8290-e24f8c48c268"
      },
      "execution_count": 100,
      "outputs": [
        {
          "output_type": "execute_result",
          "data": {
            "text/plain": [
              "2"
            ]
          },
          "metadata": {},
          "execution_count": 100
        }
      ]
    },
    {
      "cell_type": "markdown",
      "source": [
        "# Model Build\n",
        "* Learn GNN embedding\n",
        "* Apply GCN to predict<br>\n",
        "  1. GCN training\n",
        "  2. Accuracy measurement\n",
        "* Apply label propagation to predict<br>\n",
        "  1. Edge weight training\n",
        "  2. propagation iteration\n",
        "  3. Accuracy measurement"
      ],
      "metadata": {
        "id": "SHatHSDEdhZc"
      }
    },
    {
      "cell_type": "code",
      "source": [
        "# GNN embedding learning"
      ],
      "metadata": {
        "id": "0YpcNMtrgNpj"
      },
      "execution_count": null,
      "outputs": []
    },
    {
      "cell_type": "code",
      "source": [
        "# GCN Model"
      ],
      "metadata": {
        "id": "YgsPnH7GgQpD"
      },
      "execution_count": null,
      "outputs": []
    },
    {
      "cell_type": "code",
      "source": [
        "# Label Propagation\n",
        "#####################################\n",
        "#prepare edge_weight and nn graph\n",
        "#- dict edge_weights = {(from_node_id,to_node_id):weight}\n",
        "edge_weights = {\n",
        "    (1,2):1,(2,1):1,\n",
        "    (2,3):1,(3,2):1,\n",
        "    (3,4):1,(4,3):1,\n",
        "    (4,5):1,(5,4):1,\n",
        "    (5,1):1,(1,5):1\n",
        "}\n",
        "#- list edges = [(from_node_id,to_node_id)]\n",
        "edges = edge_weights.keys()\n",
        "#- dict node_featuress = {node_id:[r,g,b]}\n",
        "node_features = {\n",
        "    1:np.array([1,0,0]),\n",
        "    2:np.array([0,1,0]),\n",
        "    3:np.array([0,0,1]),\n",
        "    4:np.array([1,1,0]),\n",
        "    5:np.array([1,1,1])\n",
        "}\n",
        "#- dict node_degree_in = {node_id:int}\n",
        "#- dict node_degree_out = {node_id:int}\n",
        "node_degree_in = {}\n",
        "node_degree_out = {}\n",
        "for relation in edge_weights.keys():\n",
        "  if relation[0] in node_degree_out.keys():\n",
        "    node_degree_out[relation[0]] += 1\n",
        "  else:\n",
        "    node_degree_out[relation[0]] = 1\n",
        "  if relation[1] in node_degree_out.keys():\n",
        "    node_degree_in[relation[1]] += 1\n",
        "  else:\n",
        "    node_degree_in[relation[1]] = 1\n",
        "#- dict mask_label = {node_id:1/0}\n",
        "mask_label = {\n",
        "    1:0,\n",
        "    2:1,\n",
        "    3:0,\n",
        "    4:1,\n",
        "    5:0\n",
        "}\n",
        "#- array adjacency as a to_node*from_node matix\n",
        "adjacency = np.zeros((5,5))\n",
        "for relation in edges:\n",
        "  adjacency[relation[1],relation[0]]=1\n",
        "#####################################\n",
        "#vanilla label propagation\n",
        "epsilon = 0.01\n",
        "max_iter = 10000\n",
        "#function to calculate node feature differences\n",
        "def featureDiff(iter_features,curr_features,agg=max):\n",
        "  assert iter_features.keys() == curr_features.keys()\n",
        "  diff_dict = {}\n",
        "  for node in iter_features.keys():\n",
        "    diff_dict[node] = agg(curr_features[node]-iter_features[node])\n",
        "  return diff_dict\n",
        "\n",
        "iter_features = node_features.copy()\n",
        "for i in range(max_iter):\n",
        "  curr_features = iter_features.copy()\n",
        "  #update label for masked nodes only\n",
        "  for relation in edge_weights.keys():\n",
        "    if mask_label[relation[1]]:\n",
        "      curr_features[relation[1]] += iter_features[relation[0]]*edge_weights[relation]/len(node_degree_in[relation[1]])\n",
        "  #measure difference\n",
        "  errors = featureDiff(iter_features,curr_features)\n",
        "  iter_features = curr_features.copy()\n",
        "  if max(errors.values())<epsilon:\n",
        "    break\n",
        "\n",
        "#####################################\n",
        "#correct & smooth\n",
        "epsilon = 0.01\n",
        "max_iter = 3\n",
        "alpha = 0.1\n",
        "diffusion_scale = 0.1\n",
        "#function to calculate diffusion matrix\n",
        "def adjDiffuse(adjacency):\n",
        "  diffusion = adjacency.copy()\n",
        "  return np.linalg.norm(diffusion)\n",
        "#function to calculate correction\n",
        "def correctStep(adjacency,errors,alpha=alpha,max_iter=max_iter,epsilon=epsilon,agg=max):\n",
        "  #dimension assersion\n",
        "  assert errors.shape[0]==adjacency.shape[0]\n",
        "  diffusion = adjDiffuse(adjacency)\n",
        "  e = errors.copy()\n",
        "  for i in range(max_iter):\n",
        "    curr_e = e.copy()\n",
        "    curr_e = (1-alpha)*e+alpha*diffusion.dot(e)\n",
        "    if agg(curr_e-e)<=epsilon:\n",
        "      break\n",
        "  return correction\n",
        "#function to do smooth step\n",
        "def smoothStep(adjacency,preds,alpha=alpha,max_iter=max_iter,epsilon=epsilon,agg=max):\n",
        "  #dimension assersion\n",
        "  assert preds.shape[0]==adjacency.shape[0]\n",
        "  diffusion = adjDiffuse(adjacency)\n",
        "  z = preds.copy()\n",
        "  for i in range(max_iter):\n",
        "    curr_z = z.copy()\n",
        "    curr_z = (1-alpha)*z+alpha*diffusion.dot(z)\n",
        "    if agg(curr_z-z)<=epsilon:\n",
        "      break\n",
        "  return z\n",
        "\n",
        "#[ToGet]training predictions\n",
        "node_feature_array = np.array([node_features[node] for node in sorted(node_features.keys())])\n",
        "mask_label_array = np.array([i for i in mask_label.values()])\n",
        "pred_features = np.random.uniform(size=node_feature_array.shape)\n",
        "#correct step\n",
        "training_erorrs = (node_feature_array-pred_features)*(1-mask_label_array).reshape((len(mask_label_array),1))\n",
        "correction = correctStep(adjacency,errors=training_erorrs)\n",
        "pred_features += diffusion_scale*correction\n",
        "#smooth step\n",
        "pred_features *= mask_label_array.reshape((len(mask_label_array),1))\n",
        "pred_features += node_feature_array*(1-mask_label_array).reshape((len(mask_label_array),1))\n",
        "pred_features = smoothStep(adjacency,preds=pred_features)\n"
      ],
      "metadata": {
        "id": "BApd6BS2gXj-"
      },
      "execution_count": null,
      "outputs": []
    },
    {
      "cell_type": "code",
      "source": [
        "# functin to do vanilla label propagation on a predicted image\n",
        "def labelPropagation(node_features,mask_label,edges,max_iter=1000,epsilon=0.01,agg=max):\n",
        "  #############################################\n",
        "  #INPUT\n",
        "  #- node_features: dict of predictd values {node_id:feature_vector}\n",
        "  #- mask_label:  dict of whether the nodes are potentially water-marked {node_id:0/1}\n",
        "  #- edges: list of edges [(from_node_id,to_node_id)]\n",
        "  #- max_iter: int of max number of propagation iterations before convergence\n",
        "  #- epsilon: float tolerance of changes on feature vectors per iteration\n",
        "  #- agg: function used to calculate the feature difference\n",
        "  #OUTPUT\n",
        "  #- lp_features: dict of label-propagated values {node_id:feature_vector}\n",
        "  #############################################\n",
        "  def featureDiff(iter_features,curr_features,agg=max):\n",
        "    assert iter_features.keys() == curr_features.keys()\n",
        "    diff_dict = {}\n",
        "    for node in iter_features.keys():\n",
        "      diff_dict[node] = agg(curr_features[node]-iter_features[node])\n",
        "    return diff_dict\n",
        "  \n",
        "  # initialize useful graph metrics\n",
        "  iter_features = node_features.copy()\n",
        "  edge_weights = {edge:1 for edge in edges}\n",
        "  node_degree_in = {}\n",
        "  node_degree_out = {}\n",
        "  for relation in edge_weights.keys():\n",
        "    if relation[0] in node_degree_out.keys():\n",
        "      node_degree_out[relation[0]] += 1\n",
        "    else:\n",
        "      node_degree_out[relation[0]] = 1\n",
        "    if relation[1] in node_degree_out.keys():\n",
        "      node_degree_in[relation[1]] += 1\n",
        "    else:\n",
        "      node_degree_in[relation[1]] = 1\n",
        "  \n",
        "  for i in range(max_iter):\n",
        "    curr_features = iter_features.copy()\n",
        "    #update label for masked nodes only\n",
        "    for relation in edges:\n",
        "      if mask_label[relation[1]]:\n",
        "        curr_features[relation[1]] += iter_features[relation[0]]*edge_weights[relation]/len(node_degree_in[relation[1]])\n",
        "    #measure difference\n",
        "    errors = featureDiff(iter_features,curr_features)\n",
        "    iter_features = curr_features.copy()\n",
        "    if max(errors.values())<epsilon:\n",
        "      break\n",
        "  \n",
        "  #convert into dictionary\n",
        "  lp_features = {}\n",
        "  for i in range(len(iter_features)):\n",
        "    lp_features[i] = iter_features[i]\n",
        "\n",
        "  return iter_features\n",
        "\n",
        "# function to do C&S on the predictions\n",
        "def correctSmooth(node_features,pred_features,mask_label,edges,alpha=0.1,max_iter=3,epsilon=0.01,agg=max,diffusion_scale=0.1):\n",
        "  #############################################\n",
        "  #INPUT\n",
        "  #- node_features: dict of before training values {node_id:feature_vector}\n",
        "  #- pred_features: dict of predictd values {node_id:feature_vector}\n",
        "  #- mask_label:  dict of whether the nodes are potentially water-marked {node_id:0/1}\n",
        "  #- edges: list of edges [(from_node_id,to_node_id)]\n",
        "  #- alpha: float of weight of diffusion\n",
        "  #- max_iter: int of max number of propagation iterations before convergence\n",
        "  #- epsilon: float tolerance of changes on feature vectors per iteration\n",
        "  #- agg: function used to calculate the feature difference\n",
        "  #- diffusion_scale: float of scale on correct step\n",
        "  #OUTPUT\n",
        "  #- lp_features: dict of label-propagated values {node_id:feature_vector}\n",
        "  #############################################\n",
        "  #function to calculate the normalized diffusion matrix\n",
        "  def adjDiffuse(adjacency):\n",
        "    diffusion = adjacency.copy()\n",
        "    return np.linalg.norm(diffusion)\n",
        "\n",
        "  #function to calculate correction\n",
        "  def correctStep(adjacency,errors,alpha=alpha,max_iter=max_iter,epsilon=epsilon,agg=max):\n",
        "    #dimension assersion\n",
        "    assert errors.shape[0]==adjacency.shape[0]\n",
        "    diffusion = adjDiffuse(adjacency)\n",
        "    e = errors.copy()\n",
        "    for i in range(max_iter):\n",
        "      curr_e = e.copy()\n",
        "      curr_e = (1-alpha)*e+alpha*diffusion.dot(e)\n",
        "      if agg(curr_e-e)<=epsilon:\n",
        "        break\n",
        "    return correction\n",
        "\n",
        "  #function to calculate smoothed predictions\n",
        "  def smoothStep(adjacency,preds,alpha=alpha,max_iter=max_iter,epsilon=epsilon,agg=max):\n",
        "    #dimension assersion\n",
        "    assert preds.shape[0]==adjacency.shape[0]\n",
        "    diffusion = adjDiffuse(adjacency)\n",
        "    z = preds.copy()\n",
        "    for i in range(max_iter):\n",
        "      curr_z = z.copy()\n",
        "      curr_z = (1-alpha)*z+alpha*diffusion.dot(z)\n",
        "      if agg(curr_z-z)<=epsilon:\n",
        "        break\n",
        "    return z\n",
        "\n",
        "  node_feature_array = np.array([node_features[node] for node in sorted(node_features.keys())])\n",
        "  pred_features_array = np.array([pred_features[node] for node in sorted(pred_features.keys())])\n",
        "  mask_label_array = np.array([i for i in mask_label.values()])\n",
        "  #array adjacency as a to_node*from_node matix\n",
        "  adjacency = np.zeros((5,5))\n",
        "  for relation in edges:\n",
        "    adjacency[relation[1],relation[0]]=1\n",
        "  \n",
        "  #correct step\n",
        "  training_erorrs = (node_feature_array-pred_features_array)*(1-mask_label_array).reshape((len(mask_label_array),1))\n",
        "  correction = correctStep(adjacency,errors=training_erorrs)\n",
        "  pred_features_array += diffusion_scale*correction\n",
        "  #smooth step\n",
        "  pred_features_array *= mask_label_array.reshape((len(mask_label_array),1))\n",
        "  pred_features_array += node_feature_array*(1-mask_label_array).reshape((len(mask_label_array),1))\n",
        "  pred_features_array = smoothStep(adjacency,preds=pred_features_array)\n",
        "  #convert into dictionary\n",
        "  lp_features = {}\n",
        "  for i in range(len(pred_features_array)):\n",
        "    lp_features[i] = pred_features_array[i]\n",
        "  \n",
        "  return pred_features"
      ],
      "metadata": {
        "id": "ez0-P7f92l_m"
      },
      "execution_count": null,
      "outputs": []
    }
  ]
}