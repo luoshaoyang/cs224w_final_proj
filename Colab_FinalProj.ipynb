{
  "nbformat": 4,
  "nbformat_minor": 0,
  "metadata": {
    "colab": {
      "provenance": [],
      "authorship_tag": "ABX9TyOSv3NJ66TGV0o9IkkUWVoK",
      "include_colab_link": true
    },
    "kernelspec": {
      "name": "python3",
      "display_name": "Python 3"
    },
    "language_info": {
      "name": "python"
    }
  },
  "cells": [
    {
      "cell_type": "markdown",
      "metadata": {
        "id": "view-in-github",
        "colab_type": "text"
      },
      "source": [
        "<a href=\"https://colab.research.google.com/github/luoshaoyang/cs224w_final_proj/blob/main/Colab_FinalProj.ipynb\" target=\"_parent\"><img src=\"https://colab.research.google.com/assets/colab-badge.svg\" alt=\"Open In Colab\"/></a>"
      ]
    },
    {
      "cell_type": "markdown",
      "source": [
        "# Image Visible Masking/Watermark Removal with Graph Neural Network"
      ],
      "metadata": {
        "id": "fPkn6dGvbTT-"
      }
    },
    {
      "cell_type": "code",
      "source": [
        "from google.colab import drive\n",
        "drive.mount('/content/drive')\n",
        "FOLDERNAME = 'CS224WFinalProj/'\n",
        "import sys\n",
        "sys.path.append('/content/drive/MyDrive/{}'.format(FOLDERNAME))\n",
        "%cd /content/drive/MyDrive/$FOLDERNAME\n",
        "\n",
        "import torch\n",
        "#device = torch.device('cuda' if torch.cuda.is_available() else 'cpu')\n",
        "#device"
      ],
      "metadata": {
        "colab": {
          "base_uri": "https://localhost:8080/"
        },
        "id": "jguCIZVQzYGd",
        "outputId": "4f1c746a-18d3-4bc5-813b-63879c121c76"
      },
      "execution_count": 2,
      "outputs": [
        {
          "output_type": "stream",
          "name": "stdout",
          "text": [
            "Drive already mounted at /content/drive; to attempt to forcibly remount, call drive.mount(\"/content/drive\", force_remount=True).\n",
            "/content/drive/MyDrive/CS224WFinalProj\n"
          ]
        }
      ]
    },
    {
      "cell_type": "markdown",
      "source": [
        "# Setup\n",
        "* Import Libraries\n",
        "* Handy Functions<br>\n",
        " 1. loadImage\n",
        " 2. image2NN\n",
        " 3. NN2Image\n",
        " 4. plotImage\n",
        " 5. image2GrayScale\n",
        " 6. image2Binary\n",
        " 7. overlayerImg\n",
        " 8. overlayImg1OverImg2\n"
      ],
      "metadata": {
        "id": "ckOOSgd9bXP0"
      }
    },
    {
      "cell_type": "code",
      "execution_count": 3,
      "metadata": {
        "id": "o4FTTICIbQjI"
      },
      "outputs": [],
      "source": [
        "# Packages\n",
        "import numpy as np\n",
        "import pandas as pd\n",
        "import cv2\n",
        "import os\n",
        "import matplotlib.pyplot as plt"
      ]
    },
    {
      "cell_type": "code",
      "source": [
        "# Functions\n",
        "def loadImage(path,plotImg=True):\n",
        "  image=cv2.imread(path)\n",
        "  if plotImg:\n",
        "    plt.figure()\n",
        "    plt.imshow(cv2.cvtColor(image,cv2.COLOR_BGR2RGB))\n",
        "    plt.show()\n",
        "  return image"
      ],
      "metadata": {
        "id": "WiZWACyafvDN"
      },
      "execution_count": 4,
      "outputs": []
    },
    {
      "cell_type": "markdown",
      "source": [
        "#Data Processing\n",
        "* Read in the datasets\n",
        "* Create masked/watermarked datasets\n",
        "* Split for training and testing"
      ],
      "metadata": {
        "id": "KSegHW9gbdFM"
      }
    },
    {
      "cell_type": "code",
      "source": [
        "# Load DataSet\n",
        "train = pd.read_csv('train.csv')\n",
        "test = pd.read_csv('test.csv')\n",
        "\n",
        "idx=0#for image 0 in training\n",
        "path = os.path.join('../data', train.loc[idx, 'Label'], train.loc[idx, 'Image'])\n",
        "loadImage(path)"
      ],
      "metadata": {
        "id": "uGSgKkRgbhyI"
      },
      "execution_count": null,
      "outputs": []
    },
    {
      "cell_type": "code",
      "source": [
        "# Create masked datasets"
      ],
      "metadata": {
        "id": "OJEeODGKf3Rz"
      },
      "execution_count": null,
      "outputs": []
    },
    {
      "cell_type": "code",
      "source": [
        "# Split data for training and testing"
      ],
      "metadata": {
        "id": "KD37zNigf7N7"
      },
      "execution_count": null,
      "outputs": []
    },
    {
      "cell_type": "markdown",
      "source": [
        "# Model Build\n",
        "* Learn GNN embedding\n",
        "* Apply GCN to predict<br>\n",
        "  1. GCN training\n",
        "  2. Accuracy measurement\n",
        "* Apply label propagation to predict<br>\n",
        "  1. Edge weight training\n",
        "  2. propagation iteration\n",
        "  3. Accuracy measurement"
      ],
      "metadata": {
        "id": "SHatHSDEdhZc"
      }
    },
    {
      "cell_type": "code",
      "source": [
        "# GNN embedding learning"
      ],
      "metadata": {
        "id": "0YpcNMtrgNpj"
      },
      "execution_count": null,
      "outputs": []
    },
    {
      "cell_type": "code",
      "source": [
        "# GCN Model"
      ],
      "metadata": {
        "id": "YgsPnH7GgQpD"
      },
      "execution_count": null,
      "outputs": []
    },
    {
      "cell_type": "code",
      "source": [
        "# Label Propagation"
      ],
      "metadata": {
        "id": "BApd6BS2gXj-"
      },
      "execution_count": null,
      "outputs": []
    }
  ]
}