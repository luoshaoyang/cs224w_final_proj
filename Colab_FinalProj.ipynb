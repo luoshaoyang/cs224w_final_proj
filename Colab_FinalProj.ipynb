{
  "nbformat": 4,
  "nbformat_minor": 0,
  "metadata": {
    "colab": {
      "provenance": [],
      "authorship_tag": "ABX9TyOeBuh6z53tYpKQ4iIRGiD/",
      "include_colab_link": true
    },
    "kernelspec": {
      "name": "python3",
      "display_name": "Python 3"
    },
    "language_info": {
      "name": "python"
    }
  },
  "cells": [
    {
      "cell_type": "markdown",
      "metadata": {
        "id": "view-in-github",
        "colab_type": "text"
      },
      "source": [
        "<a href=\"https://colab.research.google.com/github/luoshaoyang/cs224w_final_proj/blob/main/Colab_FinalProj.ipynb\" target=\"_parent\"><img src=\"https://colab.research.google.com/assets/colab-badge.svg\" alt=\"Open In Colab\"/></a>"
      ]
    },
    {
      "cell_type": "markdown",
      "source": [
        "# Image Visible Masking/Watermark Removal with Graph Neural Network"
      ],
      "metadata": {
        "id": "fPkn6dGvbTT-"
      }
    },
    {
      "cell_type": "markdown",
      "source": [
        "# Setup\n",
        "* Import Libraries\n",
        "* Handy Functions"
      ],
      "metadata": {
        "id": "ckOOSgd9bXP0"
      }
    },
    {
      "cell_type": "code",
      "execution_count": null,
      "metadata": {
        "id": "o4FTTICIbQjI"
      },
      "outputs": [],
      "source": []
    },
    {
      "cell_type": "markdown",
      "source": [
        "#Data Processing\n",
        "* read in the datasets\n",
        "* create masked/watermarked datasets\n",
        "* split for training and testing"
      ],
      "metadata": {
        "id": "KSegHW9gbdFM"
      }
    },
    {
      "cell_type": "code",
      "source": [],
      "metadata": {
        "id": "uGSgKkRgbhyI"
      },
      "execution_count": null,
      "outputs": []
    }
  ]
}